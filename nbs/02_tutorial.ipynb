{
 "cells": [
  {
   "cell_type": "code",
   "execution_count": null,
   "metadata": {},
   "outputs": [],
   "source": [
    "# | hide\n",
    "from treasure_trove.core import *\n",
    "from squeakily.helpers import LLMLabeler"
   ]
  },
  {
   "attachments": {},
   "cell_type": "markdown",
   "metadata": {},
   "source": [
    "# treasure_trove\n",
    "\n",
    "> Find the treasure in your trove of data"
   ]
  },
  {
   "cell_type": "code",
   "execution_count": null,
   "metadata": {},
   "outputs": [],
   "source": [
    "#| eval: false\n",
    "from datasets import load_dataset\n",
    "from squeakily.helpers import LLMLabeler\n",
    "from transformers import pipeline, TrainingArguments\n",
    "from treasure_trove.core import filter_dataset, label_dataset, train_labeler\n",
    "\n",
    "instruction = \"\"\"Please label the following code as either educational or non-educational.\n",
    "Educational code is code that is well written, follows best practices, has documentation such that it might be found in a textbook.\n",
    "Non-educational code is code that is poorly written, lacks documentation, contain bugs, or is not idiomatic.\n",
    "Labels:\n",
    "\"\"\"\n",
    "labels = [\"educational\", \"non-educational\"]\n",
    "api_key = \"<api_key>\"\n",
    "labeler = LLMLabeler(instruction, labels, model_name=\"gpt-4\", api_key=api_key)\n",
    "\n",
    "ds = load_dataset(\"bigcode/the-stack-smol\", data_dir=\"data/python\")[\"train\"]\n",
    "\n",
    "# Get the training arguments\n",
    "batch_size=4,\n",
    "training_args = TrainingArguments(\n",
    "    output_dir=\"./code_edu\",\n",
    "    num_train_epochs=1,\n",
    "    per_device_train_batch_size=batch_size,\n",
    "    per_device_eval_batch_size=batch_size,\n",
    "    warmup_steps=500,\n",
    "    weight_decay=0.01,\n",
    "    logging_dir=\"./logs\",\n",
    "    logging_steps=10,\n",
    "    evaluation_strategy=\"epoch\",\n",
    "    save_strategy=\"epoch\",\n",
    "    load_best_model_at_end=True,\n",
    "    metric_for_best_model=\"accuracy\",\n",
    "    greater_is_better=True,\n",
    "    seed=42,\n",
    "    push_to_hub=True,\n",
    ")"
   ]
  },
  {
   "cell_type": "code",
   "execution_count": null,
   "metadata": {},
   "outputs": [],
   "source": [
    "#| eval: false\n",
    "subset = label_dataset(ds, \"content\", labeler, labels, sample=0.001)\n",
    "base_model_name = \"EleutherAI/pythia-70m-deduped\"\n",
    "model, tokenizer = train_labeler(\n",
    "    subset,\n",
    "    \"content\",\n",
    "    base_model_name,\n",
    "    n_labels=len(labels),\n",
    "    training_args=training_args,\n",
    "    num_workers=4,\n",
    "    max_length=512,\n",
    "    push_to_hub=True,\n",
    ")\n",
    "pipe = pipeline(\n",
    "    \"text-classification\", model=model, tokenizer=tokenizer, device=model.device\n",
    ")\n",
    "filtered_ds = filter_dataset(ds, \"content\", model, labels.index(\"educational\"))\n",
    "filtered_ds.push_to_hub(\"ncoop57/code_edu\")"
   ]
  }
 ],
 "metadata": {
  "kernelspec": {
   "display_name": "python3",
   "language": "python",
   "name": "python3"
  }
 },
 "nbformat": 4,
 "nbformat_minor": 4
}
